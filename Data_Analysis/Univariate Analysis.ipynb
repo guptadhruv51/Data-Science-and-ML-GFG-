{
 "cells": [
  {
   "cell_type": "code",
   "execution_count": 1,
   "id": "c97feb06",
   "metadata": {},
   "outputs": [],
   "source": [
    "import pandas as pd\n",
    "import numpy as np\n",
    "import matplotlib.pyplot as plt"
   ]
  },
  {
   "cell_type": "code",
   "execution_count": 2,
   "id": "8b458af8",
   "metadata": {},
   "outputs": [
    {
     "data": {
      "text/html": [
       "<div>\n",
       "<style scoped>\n",
       "    .dataframe tbody tr th:only-of-type {\n",
       "        vertical-align: middle;\n",
       "    }\n",
       "\n",
       "    .dataframe tbody tr th {\n",
       "        vertical-align: top;\n",
       "    }\n",
       "\n",
       "    .dataframe thead th {\n",
       "        text-align: right;\n",
       "    }\n",
       "</style>\n",
       "<table border=\"1\" class=\"dataframe\">\n",
       "  <thead>\n",
       "    <tr style=\"text-align: right;\">\n",
       "      <th></th>\n",
       "      <th>id</th>\n",
       "      <th>name</th>\n",
       "      <th>host_id</th>\n",
       "      <th>host_name</th>\n",
       "      <th>neighbourhood_group</th>\n",
       "      <th>neighbourhood</th>\n",
       "      <th>latitude</th>\n",
       "      <th>longitude</th>\n",
       "      <th>room_type</th>\n",
       "      <th>price</th>\n",
       "      <th>minimum_nights</th>\n",
       "      <th>number_of_reviews</th>\n",
       "      <th>last_review</th>\n",
       "      <th>reviews_per_month</th>\n",
       "      <th>calculated_host_listings_count</th>\n",
       "      <th>availability_365</th>\n",
       "    </tr>\n",
       "  </thead>\n",
       "  <tbody>\n",
       "    <tr>\n",
       "      <th>0</th>\n",
       "      <td>2539</td>\n",
       "      <td>Clean &amp; quiet apt home by the park</td>\n",
       "      <td>2787</td>\n",
       "      <td>John</td>\n",
       "      <td>Brooklyn</td>\n",
       "      <td>Kensington</td>\n",
       "      <td>40.64749</td>\n",
       "      <td>-73.97237</td>\n",
       "      <td>Private room</td>\n",
       "      <td>149</td>\n",
       "      <td>1</td>\n",
       "      <td>9</td>\n",
       "      <td>2018-10-19</td>\n",
       "      <td>0.21</td>\n",
       "      <td>6</td>\n",
       "      <td>365</td>\n",
       "    </tr>\n",
       "    <tr>\n",
       "      <th>1</th>\n",
       "      <td>2595</td>\n",
       "      <td>Skylit Midtown Castle</td>\n",
       "      <td>2845</td>\n",
       "      <td>Jennifer</td>\n",
       "      <td>Manhattan</td>\n",
       "      <td>Midtown</td>\n",
       "      <td>40.75362</td>\n",
       "      <td>-73.98377</td>\n",
       "      <td>Entire home/apt</td>\n",
       "      <td>225</td>\n",
       "      <td>1</td>\n",
       "      <td>45</td>\n",
       "      <td>2019-05-21</td>\n",
       "      <td>0.38</td>\n",
       "      <td>2</td>\n",
       "      <td>355</td>\n",
       "    </tr>\n",
       "    <tr>\n",
       "      <th>2</th>\n",
       "      <td>3647</td>\n",
       "      <td>THE VILLAGE OF HARLEM....NEW YORK !</td>\n",
       "      <td>4632</td>\n",
       "      <td>Elisabeth</td>\n",
       "      <td>Manhattan</td>\n",
       "      <td>Harlem</td>\n",
       "      <td>40.80902</td>\n",
       "      <td>-73.94190</td>\n",
       "      <td>Private room</td>\n",
       "      <td>150</td>\n",
       "      <td>3</td>\n",
       "      <td>0</td>\n",
       "      <td>NaN</td>\n",
       "      <td>NaN</td>\n",
       "      <td>1</td>\n",
       "      <td>365</td>\n",
       "    </tr>\n",
       "    <tr>\n",
       "      <th>3</th>\n",
       "      <td>3831</td>\n",
       "      <td>Cozy Entire Floor of Brownstone</td>\n",
       "      <td>4869</td>\n",
       "      <td>LisaRoxanne</td>\n",
       "      <td>Brooklyn</td>\n",
       "      <td>Clinton Hill</td>\n",
       "      <td>40.68514</td>\n",
       "      <td>-73.95976</td>\n",
       "      <td>Entire home/apt</td>\n",
       "      <td>89</td>\n",
       "      <td>1</td>\n",
       "      <td>270</td>\n",
       "      <td>2019-07-05</td>\n",
       "      <td>4.64</td>\n",
       "      <td>1</td>\n",
       "      <td>194</td>\n",
       "    </tr>\n",
       "    <tr>\n",
       "      <th>4</th>\n",
       "      <td>5022</td>\n",
       "      <td>Entire Apt: Spacious Studio/Loft by central park</td>\n",
       "      <td>7192</td>\n",
       "      <td>Laura</td>\n",
       "      <td>Manhattan</td>\n",
       "      <td>East Harlem</td>\n",
       "      <td>40.79851</td>\n",
       "      <td>-73.94399</td>\n",
       "      <td>Entire home/apt</td>\n",
       "      <td>80</td>\n",
       "      <td>10</td>\n",
       "      <td>9</td>\n",
       "      <td>2018-11-19</td>\n",
       "      <td>0.10</td>\n",
       "      <td>1</td>\n",
       "      <td>0</td>\n",
       "    </tr>\n",
       "  </tbody>\n",
       "</table>\n",
       "</div>"
      ],
      "text/plain": [
       "     id                                              name  host_id  \\\n",
       "0  2539                Clean & quiet apt home by the park     2787   \n",
       "1  2595                             Skylit Midtown Castle     2845   \n",
       "2  3647               THE VILLAGE OF HARLEM....NEW YORK !     4632   \n",
       "3  3831                   Cozy Entire Floor of Brownstone     4869   \n",
       "4  5022  Entire Apt: Spacious Studio/Loft by central park     7192   \n",
       "\n",
       "     host_name neighbourhood_group neighbourhood  latitude  longitude  \\\n",
       "0         John            Brooklyn    Kensington  40.64749  -73.97237   \n",
       "1     Jennifer           Manhattan       Midtown  40.75362  -73.98377   \n",
       "2    Elisabeth           Manhattan        Harlem  40.80902  -73.94190   \n",
       "3  LisaRoxanne            Brooklyn  Clinton Hill  40.68514  -73.95976   \n",
       "4        Laura           Manhattan   East Harlem  40.79851  -73.94399   \n",
       "\n",
       "         room_type  price  minimum_nights  number_of_reviews last_review  \\\n",
       "0     Private room    149               1                  9  2018-10-19   \n",
       "1  Entire home/apt    225               1                 45  2019-05-21   \n",
       "2     Private room    150               3                  0         NaN   \n",
       "3  Entire home/apt     89               1                270  2019-07-05   \n",
       "4  Entire home/apt     80              10                  9  2018-11-19   \n",
       "\n",
       "   reviews_per_month  calculated_host_listings_count  availability_365  \n",
       "0               0.21                               6               365  \n",
       "1               0.38                               2               355  \n",
       "2                NaN                               1               365  \n",
       "3               4.64                               1               194  \n",
       "4               0.10                               1                 0  "
      ]
     },
     "execution_count": 2,
     "metadata": {},
     "output_type": "execute_result"
    }
   ],
   "source": [
    "df=pd.read_csv(\"AB_NYC_2019.csv\")\n",
    "df.head()"
   ]
  },
  {
   "cell_type": "code",
   "execution_count": 3,
   "id": "f16f04c9",
   "metadata": {},
   "outputs": [],
   "source": [
    "df.dropna(inplace=True)\n",
    "df.drop_duplicates(inplace=True)"
   ]
  },
  {
   "cell_type": "code",
   "execution_count": 6,
   "id": "057a99a4",
   "metadata": {},
   "outputs": [],
   "source": [
    "df['id']=df['id'].astype('str')\n",
    "df['host_id']=df['host_id'].astype('str')\n",
    "df['latitude']=df['latitude'].astype('str')\n",
    "df['longitude']=df['longitude'].astype('str')"
   ]
  },
  {
   "cell_type": "code",
   "execution_count": 7,
   "id": "f8cf8d71",
   "metadata": {},
   "outputs": [
    {
     "data": {
      "text/html": [
       "<div>\n",
       "<style scoped>\n",
       "    .dataframe tbody tr th:only-of-type {\n",
       "        vertical-align: middle;\n",
       "    }\n",
       "\n",
       "    .dataframe tbody tr th {\n",
       "        vertical-align: top;\n",
       "    }\n",
       "\n",
       "    .dataframe thead th {\n",
       "        text-align: right;\n",
       "    }\n",
       "</style>\n",
       "<table border=\"1\" class=\"dataframe\">\n",
       "  <thead>\n",
       "    <tr style=\"text-align: right;\">\n",
       "      <th></th>\n",
       "      <th>price</th>\n",
       "      <th>minimum_nights</th>\n",
       "      <th>number_of_reviews</th>\n",
       "      <th>reviews_per_month</th>\n",
       "      <th>calculated_host_listings_count</th>\n",
       "      <th>availability_365</th>\n",
       "    </tr>\n",
       "  </thead>\n",
       "  <tbody>\n",
       "    <tr>\n",
       "      <th>count</th>\n",
       "      <td>38821.000000</td>\n",
       "      <td>38821.000000</td>\n",
       "      <td>38821.000000</td>\n",
       "      <td>38821.000000</td>\n",
       "      <td>38821.000000</td>\n",
       "      <td>38821.000000</td>\n",
       "    </tr>\n",
       "    <tr>\n",
       "      <th>mean</th>\n",
       "      <td>142.332526</td>\n",
       "      <td>5.869220</td>\n",
       "      <td>29.290255</td>\n",
       "      <td>1.373229</td>\n",
       "      <td>5.166611</td>\n",
       "      <td>114.886299</td>\n",
       "    </tr>\n",
       "    <tr>\n",
       "      <th>std</th>\n",
       "      <td>196.994756</td>\n",
       "      <td>17.389026</td>\n",
       "      <td>48.182900</td>\n",
       "      <td>1.680328</td>\n",
       "      <td>26.302954</td>\n",
       "      <td>129.529950</td>\n",
       "    </tr>\n",
       "    <tr>\n",
       "      <th>min</th>\n",
       "      <td>0.000000</td>\n",
       "      <td>1.000000</td>\n",
       "      <td>1.000000</td>\n",
       "      <td>0.010000</td>\n",
       "      <td>1.000000</td>\n",
       "      <td>0.000000</td>\n",
       "    </tr>\n",
       "    <tr>\n",
       "      <th>25%</th>\n",
       "      <td>69.000000</td>\n",
       "      <td>1.000000</td>\n",
       "      <td>3.000000</td>\n",
       "      <td>0.190000</td>\n",
       "      <td>1.000000</td>\n",
       "      <td>0.000000</td>\n",
       "    </tr>\n",
       "    <tr>\n",
       "      <th>50%</th>\n",
       "      <td>101.000000</td>\n",
       "      <td>2.000000</td>\n",
       "      <td>9.000000</td>\n",
       "      <td>0.720000</td>\n",
       "      <td>1.000000</td>\n",
       "      <td>55.000000</td>\n",
       "    </tr>\n",
       "    <tr>\n",
       "      <th>75%</th>\n",
       "      <td>170.000000</td>\n",
       "      <td>4.000000</td>\n",
       "      <td>33.000000</td>\n",
       "      <td>2.020000</td>\n",
       "      <td>2.000000</td>\n",
       "      <td>229.000000</td>\n",
       "    </tr>\n",
       "    <tr>\n",
       "      <th>max</th>\n",
       "      <td>10000.000000</td>\n",
       "      <td>1250.000000</td>\n",
       "      <td>629.000000</td>\n",
       "      <td>58.500000</td>\n",
       "      <td>327.000000</td>\n",
       "      <td>365.000000</td>\n",
       "    </tr>\n",
       "  </tbody>\n",
       "</table>\n",
       "</div>"
      ],
      "text/plain": [
       "              price  minimum_nights  number_of_reviews  reviews_per_month  \\\n",
       "count  38821.000000    38821.000000       38821.000000       38821.000000   \n",
       "mean     142.332526        5.869220          29.290255           1.373229   \n",
       "std      196.994756       17.389026          48.182900           1.680328   \n",
       "min        0.000000        1.000000           1.000000           0.010000   \n",
       "25%       69.000000        1.000000           3.000000           0.190000   \n",
       "50%      101.000000        2.000000           9.000000           0.720000   \n",
       "75%      170.000000        4.000000          33.000000           2.020000   \n",
       "max    10000.000000     1250.000000         629.000000          58.500000   \n",
       "\n",
       "       calculated_host_listings_count  availability_365  \n",
       "count                    38821.000000      38821.000000  \n",
       "mean                         5.166611        114.886299  \n",
       "std                         26.302954        129.529950  \n",
       "min                          1.000000          0.000000  \n",
       "25%                          1.000000          0.000000  \n",
       "50%                          1.000000         55.000000  \n",
       "75%                          2.000000        229.000000  \n",
       "max                        327.000000        365.000000  "
      ]
     },
     "execution_count": 7,
     "metadata": {},
     "output_type": "execute_result"
    }
   ],
   "source": [
    "df.describe()"
   ]
  },
  {
   "cell_type": "code",
   "execution_count": 8,
   "id": "7cdb2ae4",
   "metadata": {},
   "outputs": [
    {
     "data": {
      "text/plain": [
       "id                                38821\n",
       "name                              38253\n",
       "host_id                           30232\n",
       "host_name                          9885\n",
       "neighbourhood_group                   5\n",
       "neighbourhood                       218\n",
       "latitude                          17436\n",
       "longitude                         13639\n",
       "room_type                             3\n",
       "price                               581\n",
       "minimum_nights                       89\n",
       "number_of_reviews                   393\n",
       "last_review                        1764\n",
       "reviews_per_month                   937\n",
       "calculated_host_listings_count       47\n",
       "availability_365                    366\n",
       "dtype: int64"
      ]
     },
     "execution_count": 8,
     "metadata": {},
     "output_type": "execute_result"
    }
   ],
   "source": [
    "df.nunique()"
   ]
  },
  {
   "cell_type": "markdown",
   "id": "2f5c7f4d",
   "metadata": {},
   "source": [
    "### Categorical"
   ]
  },
  {
   "cell_type": "code",
   "execution_count": 9,
   "id": "279e6621",
   "metadata": {},
   "outputs": [
    {
     "data": {
      "text/plain": [
       "Manhattan        16621\n",
       "Brooklyn         16439\n",
       "Queens            4572\n",
       "Bronx              875\n",
       "Staten Island      314\n",
       "Name: neighbourhood_group, dtype: int64"
      ]
     },
     "execution_count": 9,
     "metadata": {},
     "output_type": "execute_result"
    }
   ],
   "source": [
    "df['neighbourhood_group'].value_counts()"
   ]
  },
  {
   "cell_type": "code",
   "execution_count": 17,
   "id": "310b0ce2",
   "metadata": {},
   "outputs": [
    {
     "data": {
      "text/plain": [
       "Manhattan        42.814456\n",
       "Brooklyn         42.345638\n",
       "Queens           11.777131\n",
       "Bronx             2.253935\n",
       "Staten Island     0.808841\n",
       "Name: neighbourhood_group, dtype: float64"
      ]
     },
     "execution_count": 17,
     "metadata": {},
     "output_type": "execute_result"
    }
   ],
   "source": [
    "df['neighbourhood_group'].value_counts(normalize=True)*100"
   ]
  },
  {
   "cell_type": "code",
   "execution_count": 18,
   "id": "0f21028a",
   "metadata": {},
   "outputs": [
    {
     "data": {
      "text/plain": [
       "Entire home/apt    20321\n",
       "Private room       17654\n",
       "Shared room          846\n",
       "Name: room_type, dtype: int64"
      ]
     },
     "execution_count": 18,
     "metadata": {},
     "output_type": "execute_result"
    }
   ],
   "source": [
    "df['room_type'].value_counts()"
   ]
  },
  {
   "cell_type": "code",
   "execution_count": 19,
   "id": "b34ad231",
   "metadata": {},
   "outputs": [
    {
     "data": {
      "text/plain": [
       "Entire home/apt    52.345380\n",
       "Private room       45.475387\n",
       "Shared room         2.179233\n",
       "Name: room_type, dtype: float64"
      ]
     },
     "execution_count": 19,
     "metadata": {},
     "output_type": "execute_result"
    }
   ],
   "source": [
    "df['room_type'].value_counts(normalize=True)*100"
   ]
  },
  {
   "cell_type": "code",
   "execution_count": 20,
   "id": "2a43ed2c",
   "metadata": {},
   "outputs": [
    {
     "data": {
      "text/plain": [
       "Williamsburg          3163\n",
       "Bedford-Stuyvesant    3141\n",
       "Harlem                2204\n",
       "Bushwick              1942\n",
       "Hell's Kitchen        1528\n",
       "                      ... \n",
       "Holliswood               2\n",
       "New Dorp Beach           2\n",
       "Richmondtown             1\n",
       "Rossville                1\n",
       "Willowbrook              1\n",
       "Name: neighbourhood, Length: 218, dtype: int64"
      ]
     },
     "execution_count": 20,
     "metadata": {},
     "output_type": "execute_result"
    }
   ],
   "source": [
    "df['neighbourhood'].value_counts()"
   ]
  },
  {
   "cell_type": "code",
   "execution_count": 21,
   "id": "bcacbec2",
   "metadata": {},
   "outputs": [
    {
     "data": {
      "text/plain": [
       "Williamsburg          8.147652\n",
       "Bedford-Stuyvesant    8.090982\n",
       "Harlem                5.677340\n",
       "Bushwick              5.002447\n",
       "Hell's Kitchen        3.936014\n",
       "                        ...   \n",
       "Holliswood            0.005152\n",
       "New Dorp Beach        0.005152\n",
       "Richmondtown          0.002576\n",
       "Rossville             0.002576\n",
       "Willowbrook           0.002576\n",
       "Name: neighbourhood, Length: 218, dtype: float64"
      ]
     },
     "execution_count": 21,
     "metadata": {},
     "output_type": "execute_result"
    }
   ],
   "source": [
    "df['neighbourhood'].value_counts(normalize=True)*100"
   ]
  },
  {
   "cell_type": "markdown",
   "id": "ec9f961b",
   "metadata": {},
   "source": [
    "### Numerical"
   ]
  },
  {
   "cell_type": "code",
   "execution_count": 22,
   "id": "e110e4f5",
   "metadata": {},
   "outputs": [
    {
     "data": {
      "text/plain": [
       "(-10.001, 2000.0]    38786\n",
       "(2000.0, 4000.0]        20\n",
       "(4000.0, 6000.0]         8\n",
       "(8000.0, 10000.0]        5\n",
       "(6000.0, 8000.0]         2\n",
       "Name: price, dtype: int64"
      ]
     },
     "execution_count": 22,
     "metadata": {},
     "output_type": "execute_result"
    }
   ],
   "source": [
    "df['price'].value_counts(bins=5)"
   ]
  },
  {
   "cell_type": "code",
   "execution_count": 23,
   "id": "4de394b2",
   "metadata": {},
   "outputs": [],
   "source": [
    "bins=(0,50,100,200,500,2000,10000)"
   ]
  },
  {
   "cell_type": "code",
   "execution_count": 24,
   "id": "8de3637f",
   "metadata": {},
   "outputs": [
    {
     "data": {
      "text/plain": [
       "(50.0, 100.0]        14212\n",
       "(100.0, 200.0]       13544\n",
       "(200.0, 500.0]        5267\n",
       "(-0.001, 50.0]        5176\n",
       "(500.0, 2000.0]        587\n",
       "(2000.0, 10000.0]       35\n",
       "Name: price, dtype: int64"
      ]
     },
     "execution_count": 24,
     "metadata": {},
     "output_type": "execute_result"
    }
   ],
   "source": [
    "df['price'].value_counts(bins=bins)"
   ]
  },
  {
   "cell_type": "code",
   "execution_count": 26,
   "id": "9431dd00",
   "metadata": {},
   "outputs": [
    {
     "name": "stdout",
     "output_type": "stream",
     "text": [
      "142.33252621004095 196.99475591833985\n"
     ]
    }
   ],
   "source": [
    "print(df[\"price\"].mean(),df['price'].std())"
   ]
  },
  {
   "cell_type": "code",
   "execution_count": 27,
   "id": "b3324732",
   "metadata": {},
   "outputs": [
    {
     "data": {
      "text/html": [
       "<div>\n",
       "<style scoped>\n",
       "    .dataframe tbody tr th:only-of-type {\n",
       "        vertical-align: middle;\n",
       "    }\n",
       "\n",
       "    .dataframe tbody tr th {\n",
       "        vertical-align: top;\n",
       "    }\n",
       "\n",
       "    .dataframe thead th {\n",
       "        text-align: right;\n",
       "    }\n",
       "</style>\n",
       "<table border=\"1\" class=\"dataframe\">\n",
       "  <thead>\n",
       "    <tr style=\"text-align: right;\">\n",
       "      <th></th>\n",
       "      <th>price</th>\n",
       "      <th>minimum_nights</th>\n",
       "      <th>number_of_reviews</th>\n",
       "      <th>reviews_per_month</th>\n",
       "      <th>calculated_host_listings_count</th>\n",
       "      <th>availability_365</th>\n",
       "    </tr>\n",
       "  </thead>\n",
       "  <tbody>\n",
       "    <tr>\n",
       "      <th>price</th>\n",
       "      <td>1.000000</td>\n",
       "      <td>0.025501</td>\n",
       "      <td>-0.035924</td>\n",
       "      <td>-0.030623</td>\n",
       "      <td>0.052895</td>\n",
       "      <td>0.078276</td>\n",
       "    </tr>\n",
       "    <tr>\n",
       "      <th>minimum_nights</th>\n",
       "      <td>0.025501</td>\n",
       "      <td>1.000000</td>\n",
       "      <td>-0.069366</td>\n",
       "      <td>-0.121712</td>\n",
       "      <td>0.073474</td>\n",
       "      <td>0.101658</td>\n",
       "    </tr>\n",
       "    <tr>\n",
       "      <th>number_of_reviews</th>\n",
       "      <td>-0.035924</td>\n",
       "      <td>-0.069366</td>\n",
       "      <td>1.000000</td>\n",
       "      <td>0.549699</td>\n",
       "      <td>-0.059796</td>\n",
       "      <td>0.193409</td>\n",
       "    </tr>\n",
       "    <tr>\n",
       "      <th>reviews_per_month</th>\n",
       "      <td>-0.030623</td>\n",
       "      <td>-0.121712</td>\n",
       "      <td>0.549699</td>\n",
       "      <td>1.000000</td>\n",
       "      <td>-0.009442</td>\n",
       "      <td>0.185896</td>\n",
       "    </tr>\n",
       "    <tr>\n",
       "      <th>calculated_host_listings_count</th>\n",
       "      <td>0.052895</td>\n",
       "      <td>0.073474</td>\n",
       "      <td>-0.059796</td>\n",
       "      <td>-0.009442</td>\n",
       "      <td>1.000000</td>\n",
       "      <td>0.182981</td>\n",
       "    </tr>\n",
       "    <tr>\n",
       "      <th>availability_365</th>\n",
       "      <td>0.078276</td>\n",
       "      <td>0.101658</td>\n",
       "      <td>0.193409</td>\n",
       "      <td>0.185896</td>\n",
       "      <td>0.182981</td>\n",
       "      <td>1.000000</td>\n",
       "    </tr>\n",
       "  </tbody>\n",
       "</table>\n",
       "</div>"
      ],
      "text/plain": [
       "                                   price  minimum_nights  number_of_reviews  \\\n",
       "price                           1.000000        0.025501          -0.035924   \n",
       "minimum_nights                  0.025501        1.000000          -0.069366   \n",
       "number_of_reviews              -0.035924       -0.069366           1.000000   \n",
       "reviews_per_month              -0.030623       -0.121712           0.549699   \n",
       "calculated_host_listings_count  0.052895        0.073474          -0.059796   \n",
       "availability_365                0.078276        0.101658           0.193409   \n",
       "\n",
       "                                reviews_per_month  \\\n",
       "price                                   -0.030623   \n",
       "minimum_nights                          -0.121712   \n",
       "number_of_reviews                        0.549699   \n",
       "reviews_per_month                        1.000000   \n",
       "calculated_host_listings_count          -0.009442   \n",
       "availability_365                         0.185896   \n",
       "\n",
       "                                calculated_host_listings_count  \\\n",
       "price                                                 0.052895   \n",
       "minimum_nights                                        0.073474   \n",
       "number_of_reviews                                    -0.059796   \n",
       "reviews_per_month                                    -0.009442   \n",
       "calculated_host_listings_count                        1.000000   \n",
       "availability_365                                      0.182981   \n",
       "\n",
       "                                availability_365  \n",
       "price                                   0.078276  \n",
       "minimum_nights                          0.101658  \n",
       "number_of_reviews                       0.193409  \n",
       "reviews_per_month                       0.185896  \n",
       "calculated_host_listings_count          0.182981  \n",
       "availability_365                        1.000000  "
      ]
     },
     "execution_count": 27,
     "metadata": {},
     "output_type": "execute_result"
    }
   ],
   "source": [
    "df.corr()"
   ]
  },
  {
   "cell_type": "markdown",
   "id": "b49b70f5",
   "metadata": {},
   "source": [
    "### Visualisation"
   ]
  },
  {
   "cell_type": "code",
   "execution_count": 28,
   "id": "4e4eae25",
   "metadata": {},
   "outputs": [],
   "source": [
    "import seaborn as sns"
   ]
  },
  {
   "cell_type": "code",
   "execution_count": 29,
   "id": "09a84fba",
   "metadata": {},
   "outputs": [
    {
     "data": {
      "text/plain": [
       "<AxesSubplot:xlabel='neighbourhood_group', ylabel='count'>"
      ]
     },
     "execution_count": 29,
     "metadata": {},
     "output_type": "execute_result"
    },
    {
     "data": {
      "image/png": "[encoded data removed]",
      "text/plain": [
       "<Figure size 432x288 with 1 Axes>"
      ]
     },
     "metadata": {
      "needs_background": "light"
     },
     "output_type": "display_data"
    }
   ],
   "source": [
    "sns.countplot(data=df,x='neighbourhood_group')"
   ]
  },
  {
   "cell_type": "code",
   "execution_count": null,
   "id": "40b171ef",
   "metadata": {},
   "outputs": [],
   "source": [
    "sns.countplot(data=df,x='')"
   ]
  }
 ],
 "metadata": {
  "kernelspec": {
   "display_name": "Python 3 (ipykernel)",
   "language": "python",
   "name": "python3"
  },
  "language_info": {
   "codemirror_mode": {
    "name": "ipython",
    "version": 3
   },
   "file_extension": ".py",
   "mimetype": "text/x-python",
   "name": "python",
   "nbconvert_exporter": "python",
   "pygments_lexer": "ipython3",
   "version": "3.9.7"
  }
 },
 "nbformat": 4,
 "nbformat_minor": 5
}
