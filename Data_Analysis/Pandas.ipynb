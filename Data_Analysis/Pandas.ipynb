{
 "cells": [
  {
   "cell_type": "code",
   "execution_count": 1,
   "id": "0abb2921",
   "metadata": {},
   "outputs": [],
   "source": [
    "import pandas as pd\n",
    "import numpy as np\n",
    "from sklearn.impute import SimpleImputer"
   ]
  },
  {
   "cell_type": "code",
   "execution_count": 2,
   "id": "9a6d144f",
   "metadata": {},
   "outputs": [
    {
     "data": {
      "text/plain": [
       "array([1, 2, 3, 4])"
      ]
     },
     "execution_count": 2,
     "metadata": {},
     "output_type": "execute_result"
    }
   ],
   "source": [
    "lst=[1,2,3,4]\n",
    "np.array(lst)"
   ]
  },
  {
   "cell_type": "code",
   "execution_count": 3,
   "id": "b844b3ac",
   "metadata": {},
   "outputs": [
    {
     "data": {
      "text/plain": [
       "0    1\n",
       "1    2\n",
       "2    3\n",
       "3    4\n",
       "dtype: int64"
      ]
     },
     "execution_count": 3,
     "metadata": {},
     "output_type": "execute_result"
    }
   ],
   "source": [
    "pd.Series(lst)"
   ]
  },
  {
   "cell_type": "code",
   "execution_count": 4,
   "id": "36cbd8d5",
   "metadata": {},
   "outputs": [],
   "source": [
    "df=pd.DataFrame([lst,lst,lst])"
   ]
  },
  {
   "cell_type": "code",
   "execution_count": 5,
   "id": "482608bf",
   "metadata": {},
   "outputs": [
    {
     "data": {
      "text/html": [
       "<div>\n",
       "<style scoped>\n",
       "    .dataframe tbody tr th:only-of-type {\n",
       "        vertical-align: middle;\n",
       "    }\n",
       "\n",
       "    .dataframe tbody tr th {\n",
       "        vertical-align: top;\n",
       "    }\n",
       "\n",
       "    .dataframe thead th {\n",
       "        text-align: right;\n",
       "    }\n",
       "</style>\n",
       "<table border=\"1\" class=\"dataframe\">\n",
       "  <thead>\n",
       "    <tr style=\"text-align: right;\">\n",
       "      <th></th>\n",
       "      <th>App</th>\n",
       "      <th>Category</th>\n",
       "      <th>Rating</th>\n",
       "      <th>Reviews</th>\n",
       "      <th>Size</th>\n",
       "      <th>Installs</th>\n",
       "      <th>Type</th>\n",
       "      <th>Price</th>\n",
       "      <th>Content Rating</th>\n",
       "      <th>Genres</th>\n",
       "      <th>Last Updated</th>\n",
       "      <th>Current Ver</th>\n",
       "      <th>Android Ver</th>\n",
       "    </tr>\n",
       "  </thead>\n",
       "  <tbody>\n",
       "    <tr>\n",
       "      <th>0</th>\n",
       "      <td>Photo Editor &amp; Candy Camera &amp; Grid &amp; ScrapBook</td>\n",
       "      <td>ART_AND_DESIGN</td>\n",
       "      <td>4.1</td>\n",
       "      <td>159</td>\n",
       "      <td>19M</td>\n",
       "      <td>10,000+</td>\n",
       "      <td>Free</td>\n",
       "      <td>0</td>\n",
       "      <td>Everyone</td>\n",
       "      <td>Art &amp; Design</td>\n",
       "      <td>January 7, 2018</td>\n",
       "      <td>1.0.0</td>\n",
       "      <td>4.0.3 and up</td>\n",
       "    </tr>\n",
       "    <tr>\n",
       "      <th>1</th>\n",
       "      <td>Coloring book moana</td>\n",
       "      <td>ART_AND_DESIGN</td>\n",
       "      <td>3.9</td>\n",
       "      <td>967</td>\n",
       "      <td>14M</td>\n",
       "      <td>500,000+</td>\n",
       "      <td>Free</td>\n",
       "      <td>0</td>\n",
       "      <td>Everyone</td>\n",
       "      <td>Art &amp; Design;Pretend Play</td>\n",
       "      <td>January 15, 2018</td>\n",
       "      <td>2.0.0</td>\n",
       "      <td>4.0.3 and up</td>\n",
       "    </tr>\n",
       "    <tr>\n",
       "      <th>2</th>\n",
       "      <td>U Launcher Lite – FREE Live Cool Themes, Hide ...</td>\n",
       "      <td>ART_AND_DESIGN</td>\n",
       "      <td>4.7</td>\n",
       "      <td>87510</td>\n",
       "      <td>8.7M</td>\n",
       "      <td>5,000,000+</td>\n",
       "      <td>Free</td>\n",
       "      <td>0</td>\n",
       "      <td>Everyone</td>\n",
       "      <td>Art &amp; Design</td>\n",
       "      <td>August 1, 2018</td>\n",
       "      <td>1.2.4</td>\n",
       "      <td>4.0.3 and up</td>\n",
       "    </tr>\n",
       "    <tr>\n",
       "      <th>3</th>\n",
       "      <td>Sketch - Draw &amp; Paint</td>\n",
       "      <td>ART_AND_DESIGN</td>\n",
       "      <td>4.5</td>\n",
       "      <td>215644</td>\n",
       "      <td>25M</td>\n",
       "      <td>50,000,000+</td>\n",
       "      <td>Free</td>\n",
       "      <td>0</td>\n",
       "      <td>Teen</td>\n",
       "      <td>Art &amp; Design</td>\n",
       "      <td>June 8, 2018</td>\n",
       "      <td>Varies with device</td>\n",
       "      <td>4.2 and up</td>\n",
       "    </tr>\n",
       "    <tr>\n",
       "      <th>4</th>\n",
       "      <td>Pixel Draw - Number Art Coloring Book</td>\n",
       "      <td>ART_AND_DESIGN</td>\n",
       "      <td>4.3</td>\n",
       "      <td>967</td>\n",
       "      <td>2.8M</td>\n",
       "      <td>100,000+</td>\n",
       "      <td>Free</td>\n",
       "      <td>0</td>\n",
       "      <td>Everyone</td>\n",
       "      <td>Art &amp; Design;Creativity</td>\n",
       "      <td>June 20, 2018</td>\n",
       "      <td>1.1</td>\n",
       "      <td>4.4 and up</td>\n",
       "    </tr>\n",
       "  </tbody>\n",
       "</table>\n",
       "</div>"
      ],
      "text/plain": [
       "                                                 App        Category  Rating  \\\n",
       "0     Photo Editor & Candy Camera & Grid & ScrapBook  ART_AND_DESIGN     4.1   \n",
       "1                                Coloring book moana  ART_AND_DESIGN     3.9   \n",
       "2  U Launcher Lite – FREE Live Cool Themes, Hide ...  ART_AND_DESIGN     4.7   \n",
       "3                              Sketch - Draw & Paint  ART_AND_DESIGN     4.5   \n",
       "4              Pixel Draw - Number Art Coloring Book  ART_AND_DESIGN     4.3   \n",
       "\n",
       "  Reviews  Size     Installs  Type Price Content Rating  \\\n",
       "0     159   19M      10,000+  Free     0       Everyone   \n",
       "1     967   14M     500,000+  Free     0       Everyone   \n",
       "2   87510  8.7M   5,000,000+  Free     0       Everyone   \n",
       "3  215644   25M  50,000,000+  Free     0           Teen   \n",
       "4     967  2.8M     100,000+  Free     0       Everyone   \n",
       "\n",
       "                      Genres      Last Updated         Current Ver  \\\n",
       "0               Art & Design   January 7, 2018               1.0.0   \n",
       "1  Art & Design;Pretend Play  January 15, 2018               2.0.0   \n",
       "2               Art & Design    August 1, 2018               1.2.4   \n",
       "3               Art & Design      June 8, 2018  Varies with device   \n",
       "4    Art & Design;Creativity     June 20, 2018                 1.1   \n",
       "\n",
       "    Android Ver  \n",
       "0  4.0.3 and up  \n",
       "1  4.0.3 and up  \n",
       "2  4.0.3 and up  \n",
       "3    4.2 and up  \n",
       "4    4.4 and up  "
      ]
     },
     "execution_count": 5,
     "metadata": {},
     "output_type": "execute_result"
    }
   ],
   "source": [
    "data=pd.read_csv(\"googleplaystore.csv\")\n",
    "data.head()"
   ]
  },
  {
   "cell_type": "code",
   "execution_count": 6,
   "id": "3b5eeace",
   "metadata": {},
   "outputs": [
    {
     "name": "stdout",
     "output_type": "stream",
     "text": [
      "<class 'pandas.core.frame.DataFrame'>\n",
      "RangeIndex: 10841 entries, 0 to 10840\n",
      "Data columns (total 13 columns):\n",
      " #   Column          Non-Null Count  Dtype  \n",
      "---  ------          --------------  -----  \n",
      " 0   App             10841 non-null  object \n",
      " 1   Category        10841 non-null  object \n",
      " 2   Rating          9367 non-null   float64\n",
      " 3   Reviews         10841 non-null  object \n",
      " 4   Size            10841 non-null  object \n",
      " 5   Installs        10841 non-null  object \n",
      " 6   Type            10840 non-null  object \n",
      " 7   Price           10841 non-null  object \n",
      " 8   Content Rating  10840 non-null  object \n",
      " 9   Genres          10841 non-null  object \n",
      " 10  Last Updated    10841 non-null  object \n",
      " 11  Current Ver     10833 non-null  object \n",
      " 12  Android Ver     10838 non-null  object \n",
      "dtypes: float64(1), object(12)\n",
      "memory usage: 1.1+ MB\n"
     ]
    }
   ],
   "source": [
    "data.info()"
   ]
  },
  {
   "cell_type": "code",
   "execution_count": 7,
   "id": "3e52cb89",
   "metadata": {},
   "outputs": [
    {
     "data": {
      "text/plain": [
       "Index(['App', 'Category', 'Rating', 'Reviews', 'Size', 'Installs', 'Type',\n",
       "       'Price', 'Content Rating', 'Genres', 'Last Updated', 'Current Ver',\n",
       "       'Android Ver'],\n",
       "      dtype='object')"
      ]
     },
     "execution_count": 7,
     "metadata": {},
     "output_type": "execute_result"
    }
   ],
   "source": [
    "data.columns"
   ]
  },
  {
   "cell_type": "code",
   "execution_count": 8,
   "id": "166c868c",
   "metadata": {},
   "outputs": [
    {
     "data": {
      "text/plain": [
       "App                  0\n",
       "Category             0\n",
       "Rating            1474\n",
       "Reviews              0\n",
       "Size                 0\n",
       "Installs             0\n",
       "Type                 1\n",
       "Price                0\n",
       "Content Rating       1\n",
       "Genres               0\n",
       "Last Updated         0\n",
       "Current Ver          8\n",
       "Android Ver          3\n",
       "dtype: int64"
      ]
     },
     "execution_count": 8,
     "metadata": {},
     "output_type": "execute_result"
    }
   ],
   "source": [
    "data.isnull().sum()"
   ]
  },
  {
   "cell_type": "code",
   "execution_count": 9,
   "id": "ad026085",
   "metadata": {},
   "outputs": [],
   "source": [
    "imputer=SimpleImputer(missing_values=np.nan,strategy='mean')\n",
    "X=imputer.fit_transform(np.array(data.iloc[:,2:3]))"
   ]
  },
  {
   "cell_type": "code",
   "execution_count": 10,
   "id": "9907a536",
   "metadata": {},
   "outputs": [],
   "source": [
    "imputer=SimpleImputer(missing_values=np.nan,strategy='most_frequent')\n",
    "X=imputer.fit_transform(np.array(data.iloc[:,2:3]))"
   ]
  },
  {
   "cell_type": "code",
   "execution_count": 11,
   "id": "b5e1a887",
   "metadata": {},
   "outputs": [],
   "source": [
    "imputer=SimpleImputer(missing_values=np.nan, strategy='most_frequent')\n",
    "X=imputer.fit_transform(np.array(data['Current Ver']).reshape(-1,1))"
   ]
  },
  {
   "cell_type": "code",
   "execution_count": 12,
   "id": "0682c059",
   "metadata": {},
   "outputs": [
    {
     "data": {
      "text/plain": [
       "(10841, 1)"
      ]
     },
     "execution_count": 12,
     "metadata": {},
     "output_type": "execute_result"
    }
   ],
   "source": [
    "X.shape"
   ]
  },
  {
   "cell_type": "code",
   "execution_count": null,
   "id": "d37aeb80",
   "metadata": {},
   "outputs": [],
   "source": []
  },
  {
   "cell_type": "code",
   "execution_count": 13,
   "id": "9c67fafd",
   "metadata": {},
   "outputs": [],
   "source": [
    "df=data.dropna()"
   ]
  },
  {
   "cell_type": "code",
   "execution_count": 14,
   "id": "e78604d5",
   "metadata": {},
   "outputs": [
    {
     "data": {
      "text/plain": [
       "App               0\n",
       "Category          0\n",
       "Rating            0\n",
       "Reviews           0\n",
       "Size              0\n",
       "Installs          0\n",
       "Type              0\n",
       "Price             0\n",
       "Content Rating    0\n",
       "Genres            0\n",
       "Last Updated      0\n",
       "Current Ver       0\n",
       "Android Ver       0\n",
       "dtype: int64"
      ]
     },
     "execution_count": 14,
     "metadata": {},
     "output_type": "execute_result"
    }
   ],
   "source": [
    "df.isnull().sum()"
   ]
  },
  {
   "cell_type": "markdown",
   "id": "6d5ec53f",
   "metadata": {},
   "source": [
    "**Data Analysis Numeric**"
   ]
  },
  {
   "cell_type": "code",
   "execution_count": 15,
   "id": "f527e220",
   "metadata": {},
   "outputs": [
    {
     "data": {
      "text/plain": [
       "0        4.1\n",
       "1        3.9\n",
       "2        4.7\n",
       "3        4.5\n",
       "4        4.3\n",
       "        ... \n",
       "10834    4.0\n",
       "10836    4.5\n",
       "10837    5.0\n",
       "10839    4.5\n",
       "10840    4.5\n",
       "Name: Rating, Length: 9360, dtype: float64"
      ]
     },
     "execution_count": 15,
     "metadata": {},
     "output_type": "execute_result"
    }
   ],
   "source": [
    "df['Rating']"
   ]
  },
  {
   "cell_type": "code",
   "execution_count": 16,
   "id": "f4c62b59",
   "metadata": {},
   "outputs": [
    {
     "data": {
      "text/plain": [
       "4.191837606837612"
      ]
     },
     "execution_count": 16,
     "metadata": {},
     "output_type": "execute_result"
    }
   ],
   "source": [
    "df['Rating'].mean()"
   ]
  },
  {
   "cell_type": "code",
   "execution_count": 17,
   "id": "b1a20bb8",
   "metadata": {},
   "outputs": [
    {
     "data": {
      "text/plain": [
       "0.5152629700664079"
      ]
     },
     "execution_count": 17,
     "metadata": {},
     "output_type": "execute_result"
    }
   ],
   "source": [
    "df['Rating'].std()"
   ]
  },
  {
   "cell_type": "code",
   "execution_count": 18,
   "id": "852a4445",
   "metadata": {},
   "outputs": [
    {
     "data": {
      "text/plain": [
       "2        4.7\n",
       "3        4.5\n",
       "4        4.3\n",
       "5        4.4\n",
       "8        4.4\n",
       "        ... \n",
       "10833    4.8\n",
       "10836    4.5\n",
       "10837    5.0\n",
       "10839    4.5\n",
       "10840    4.5\n",
       "Name: Rating, Length: 6089, dtype: float64"
      ]
     },
     "execution_count": 18,
     "metadata": {},
     "output_type": "execute_result"
    }
   ],
   "source": [
    "df[df['Rating']>df['Rating'].mean()]['Rating']"
   ]
  },
  {
   "cell_type": "code",
   "execution_count": 19,
   "id": "9c2f2d1c",
   "metadata": {},
   "outputs": [
    {
     "data": {
      "text/plain": [
       "514376.7052350427"
      ]
     },
     "execution_count": 19,
     "metadata": {},
     "output_type": "execute_result"
    }
   ],
   "source": [
    "df['Reviews'].astype(int).mean()"
   ]
  },
  {
   "cell_type": "code",
   "execution_count": 20,
   "id": "6dab5efb",
   "metadata": {},
   "outputs": [
    {
     "data": {
      "text/plain": [
       "3145023.255620236"
      ]
     },
     "execution_count": 20,
     "metadata": {},
     "output_type": "execute_result"
    }
   ],
   "source": [
    "df['Reviews'].astype(int).std()"
   ]
  },
  {
   "cell_type": "markdown",
   "id": "f095abc0",
   "metadata": {},
   "source": [
    "**Categorical**"
   ]
  },
  {
   "cell_type": "code",
   "execution_count": 21,
   "id": "ff3c6541",
   "metadata": {},
   "outputs": [
    {
     "data": {
      "text/plain": [
       "array(['ART_AND_DESIGN', 'AUTO_AND_VEHICLES', 'BEAUTY',\n",
       "       'BOOKS_AND_REFERENCE', 'BUSINESS', 'COMICS', 'COMMUNICATION',\n",
       "       'DATING', 'EDUCATION', 'ENTERTAINMENT', 'EVENTS', 'FINANCE',\n",
       "       'FOOD_AND_DRINK', 'HEALTH_AND_FITNESS', 'HOUSE_AND_HOME',\n",
       "       'LIBRARIES_AND_DEMO', 'LIFESTYLE', 'GAME', 'FAMILY', 'MEDICAL',\n",
       "       'SOCIAL', 'SHOPPING', 'PHOTOGRAPHY', 'SPORTS', 'TRAVEL_AND_LOCAL',\n",
       "       'TOOLS', 'PERSONALIZATION', 'PRODUCTIVITY', 'PARENTING', 'WEATHER',\n",
       "       'VIDEO_PLAYERS', 'NEWS_AND_MAGAZINES', 'MAPS_AND_NAVIGATION'],\n",
       "      dtype=object)"
      ]
     },
     "execution_count": 21,
     "metadata": {},
     "output_type": "execute_result"
    }
   ],
   "source": [
    "df['Category'].unique()"
   ]
  },
  {
   "cell_type": "code",
   "execution_count": 22,
   "id": "da82d776",
   "metadata": {},
   "outputs": [
    {
     "data": {
      "text/plain": [
       "FAMILY                 1746\n",
       "GAME                   1097\n",
       "TOOLS                   733\n",
       "PRODUCTIVITY            351\n",
       "MEDICAL                 350\n",
       "COMMUNICATION           328\n",
       "FINANCE                 323\n",
       "SPORTS                  319\n",
       "PHOTOGRAPHY             317\n",
       "LIFESTYLE               314\n",
       "PERSONALIZATION         312\n",
       "BUSINESS                303\n",
       "HEALTH_AND_FITNESS      297\n",
       "SOCIAL                  259\n",
       "SHOPPING                238\n",
       "NEWS_AND_MAGAZINES      233\n",
       "TRAVEL_AND_LOCAL        226\n",
       "DATING                  195\n",
       "BOOKS_AND_REFERENCE     178\n",
       "VIDEO_PLAYERS           160\n",
       "EDUCATION               155\n",
       "ENTERTAINMENT           149\n",
       "MAPS_AND_NAVIGATION     124\n",
       "FOOD_AND_DRINK          109\n",
       "HOUSE_AND_HOME           76\n",
       "WEATHER                  75\n",
       "AUTO_AND_VEHICLES        73\n",
       "LIBRARIES_AND_DEMO       64\n",
       "ART_AND_DESIGN           61\n",
       "COMICS                   58\n",
       "PARENTING                50\n",
       "EVENTS                   45\n",
       "BEAUTY                   42\n",
       "Name: Category, dtype: int64"
      ]
     },
     "execution_count": 22,
     "metadata": {},
     "output_type": "execute_result"
    }
   ],
   "source": [
    "df['Category'].value_counts()"
   ]
  },
  {
   "cell_type": "code",
   "execution_count": 23,
   "id": "bd50c787",
   "metadata": {},
   "outputs": [
    {
     "data": {
      "text/plain": [
       "array(['Free', 'Paid'], dtype=object)"
      ]
     },
     "execution_count": 23,
     "metadata": {},
     "output_type": "execute_result"
    }
   ],
   "source": [
    "df['Type'].unique()"
   ]
  },
  {
   "cell_type": "code",
   "execution_count": 24,
   "id": "2ef0fe1f",
   "metadata": {},
   "outputs": [
    {
     "data": {
      "text/plain": [
       "Free    8715\n",
       "Paid     645\n",
       "Name: Type, dtype: int64"
      ]
     },
     "execution_count": 24,
     "metadata": {},
     "output_type": "execute_result"
    }
   ],
   "source": [
    "df['Type'].value_counts()"
   ]
  },
  {
   "cell_type": "code",
   "execution_count": 25,
   "id": "cd35f58d",
   "metadata": {},
   "outputs": [
    {
     "data": {
      "text/plain": [
       "array(['Everyone', 'Teen', 'Everyone 10+', 'Mature 17+',\n",
       "       'Adults only 18+', 'Unrated'], dtype=object)"
      ]
     },
     "execution_count": 25,
     "metadata": {},
     "output_type": "execute_result"
    }
   ],
   "source": [
    "df['Content Rating'].unique()"
   ]
  },
  {
   "cell_type": "code",
   "execution_count": 26,
   "id": "99414ae8",
   "metadata": {},
   "outputs": [
    {
     "data": {
      "text/plain": [
       "Everyone           7414\n",
       "Teen               1084\n",
       "Mature 17+          461\n",
       "Everyone 10+        397\n",
       "Adults only 18+       3\n",
       "Unrated               1\n",
       "Name: Content Rating, dtype: int64"
      ]
     },
     "execution_count": 26,
     "metadata": {},
     "output_type": "execute_result"
    }
   ],
   "source": [
    "df['Content Rating'].value_counts()"
   ]
  },
  {
   "cell_type": "code",
   "execution_count": 30,
   "id": "70809266",
   "metadata": {},
   "outputs": [
    {
     "data": {
      "text/plain": [
       "58"
      ]
     },
     "execution_count": 30,
     "metadata": {},
     "output_type": "execute_result"
    }
   ],
   "source": [
    "df[(df['Type']==\"Free\")&(df['Category']=='ART_AND_DESIGN')]"
   ]
  },
  {
   "cell_type": "code",
   "execution_count": 31,
   "id": "4d610e36",
   "metadata": {},
   "outputs": [
    {
     "data": {
      "text/html": [
       "<div>\n",
       "<style scoped>\n",
       "    .dataframe tbody tr th:only-of-type {\n",
       "        vertical-align: middle;\n",
       "    }\n",
       "\n",
       "    .dataframe tbody tr th {\n",
       "        vertical-align: top;\n",
       "    }\n",
       "\n",
       "    .dataframe thead th {\n",
       "        text-align: right;\n",
       "    }\n",
       "</style>\n",
       "<table border=\"1\" class=\"dataframe\">\n",
       "  <thead>\n",
       "    <tr style=\"text-align: right;\">\n",
       "      <th></th>\n",
       "      <th>App</th>\n",
       "      <th>Category</th>\n",
       "      <th>Rating</th>\n",
       "      <th>Reviews</th>\n",
       "      <th>Size</th>\n",
       "      <th>Installs</th>\n",
       "      <th>Type</th>\n",
       "      <th>Price</th>\n",
       "      <th>Content Rating</th>\n",
       "      <th>Genres</th>\n",
       "      <th>Last Updated</th>\n",
       "      <th>Current Ver</th>\n",
       "      <th>Android Ver</th>\n",
       "    </tr>\n",
       "  </thead>\n",
       "  <tbody>\n",
       "    <tr>\n",
       "      <th>4755</th>\n",
       "      <td>X Launcher Pro: PhoneX Theme, OS11 Control Center</td>\n",
       "      <td>ART_AND_DESIGN</td>\n",
       "      <td>4.7</td>\n",
       "      <td>801</td>\n",
       "      <td>3.5M</td>\n",
       "      <td>5,000+</td>\n",
       "      <td>Paid</td>\n",
       "      <td>$1.99</td>\n",
       "      <td>Everyone</td>\n",
       "      <td>Art &amp; Design</td>\n",
       "      <td>July 30, 2018</td>\n",
       "      <td>2.1.2</td>\n",
       "      <td>4.1 and up</td>\n",
       "    </tr>\n",
       "    <tr>\n",
       "      <th>4759</th>\n",
       "      <td>X Launcher Pro - IOS Style Theme &amp; Control Center</td>\n",
       "      <td>ART_AND_DESIGN</td>\n",
       "      <td>4.8</td>\n",
       "      <td>1216</td>\n",
       "      <td>8.6M</td>\n",
       "      <td>10,000+</td>\n",
       "      <td>Paid</td>\n",
       "      <td>$1.99</td>\n",
       "      <td>Everyone</td>\n",
       "      <td>Art &amp; Design</td>\n",
       "      <td>June 26, 2018</td>\n",
       "      <td>1.0.0</td>\n",
       "      <td>4.1 and up</td>\n",
       "    </tr>\n",
       "    <tr>\n",
       "      <th>4764</th>\n",
       "      <td>X Launcher Prime: With OS Style Theme &amp; No Ads</td>\n",
       "      <td>ART_AND_DESIGN</td>\n",
       "      <td>4.7</td>\n",
       "      <td>149</td>\n",
       "      <td>3.5M</td>\n",
       "      <td>1,000+</td>\n",
       "      <td>Paid</td>\n",
       "      <td>$1.99</td>\n",
       "      <td>Everyone</td>\n",
       "      <td>Art &amp; Design</td>\n",
       "      <td>July 30, 2018</td>\n",
       "      <td>1.2.2</td>\n",
       "      <td>4.1 and up</td>\n",
       "    </tr>\n",
       "  </tbody>\n",
       "</table>\n",
       "</div>"
      ],
      "text/plain": [
       "                                                    App        Category  \\\n",
       "4755  X Launcher Pro: PhoneX Theme, OS11 Control Center  ART_AND_DESIGN   \n",
       "4759  X Launcher Pro - IOS Style Theme & Control Center  ART_AND_DESIGN   \n",
       "4764     X Launcher Prime: With OS Style Theme & No Ads  ART_AND_DESIGN   \n",
       "\n",
       "      Rating Reviews  Size Installs  Type  Price Content Rating        Genres  \\\n",
       "4755     4.7     801  3.5M   5,000+  Paid  $1.99       Everyone  Art & Design   \n",
       "4759     4.8    1216  8.6M  10,000+  Paid  $1.99       Everyone  Art & Design   \n",
       "4764     4.7     149  3.5M   1,000+  Paid  $1.99       Everyone  Art & Design   \n",
       "\n",
       "       Last Updated Current Ver Android Ver  \n",
       "4755  July 30, 2018       2.1.2  4.1 and up  \n",
       "4759  June 26, 2018       1.0.0  4.1 and up  \n",
       "4764  July 30, 2018       1.2.2  4.1 and up  "
      ]
     },
     "execution_count": 31,
     "metadata": {},
     "output_type": "execute_result"
    }
   ],
   "source": [
    "df[(df['Type']==\"Paid\")&(df['Category']=='ART_AND_DESIGN')]"
   ]
  },
  {
   "cell_type": "code",
   "execution_count": 32,
   "id": "5d4ddb99",
   "metadata": {},
   "outputs": [
    {
     "data": {
      "text/html": [
       "<div>\n",
       "<style scoped>\n",
       "    .dataframe tbody tr th:only-of-type {\n",
       "        vertical-align: middle;\n",
       "    }\n",
       "\n",
       "    .dataframe tbody tr th {\n",
       "        vertical-align: top;\n",
       "    }\n",
       "\n",
       "    .dataframe thead th {\n",
       "        text-align: right;\n",
       "    }\n",
       "</style>\n",
       "<table border=\"1\" class=\"dataframe\">\n",
       "  <thead>\n",
       "    <tr style=\"text-align: right;\">\n",
       "      <th></th>\n",
       "      <th>App</th>\n",
       "      <th>Category</th>\n",
       "      <th>Rating</th>\n",
       "      <th>Reviews</th>\n",
       "      <th>Size</th>\n",
       "      <th>Installs</th>\n",
       "      <th>Type</th>\n",
       "      <th>Price</th>\n",
       "      <th>Content Rating</th>\n",
       "      <th>Genres</th>\n",
       "      <th>Last Updated</th>\n",
       "      <th>Current Ver</th>\n",
       "      <th>Android Ver</th>\n",
       "    </tr>\n",
       "  </thead>\n",
       "  <tbody>\n",
       "    <tr>\n",
       "      <th>2</th>\n",
       "      <td>U Launcher Lite – FREE Live Cool Themes, Hide ...</td>\n",
       "      <td>ART_AND_DESIGN</td>\n",
       "      <td>4.7</td>\n",
       "      <td>87510</td>\n",
       "      <td>8.7M</td>\n",
       "      <td>5,000,000+</td>\n",
       "      <td>Free</td>\n",
       "      <td>0</td>\n",
       "      <td>Everyone</td>\n",
       "      <td>Art &amp; Design</td>\n",
       "      <td>August 1, 2018</td>\n",
       "      <td>1.2.4</td>\n",
       "      <td>4.0.3 and up</td>\n",
       "    </tr>\n",
       "    <tr>\n",
       "      <th>9</th>\n",
       "      <td>Kids Paint Free - Drawing Fun</td>\n",
       "      <td>ART_AND_DESIGN</td>\n",
       "      <td>4.7</td>\n",
       "      <td>121</td>\n",
       "      <td>3.1M</td>\n",
       "      <td>10,000+</td>\n",
       "      <td>Free</td>\n",
       "      <td>0</td>\n",
       "      <td>Everyone</td>\n",
       "      <td>Art &amp; Design;Creativity</td>\n",
       "      <td>July 3, 2018</td>\n",
       "      <td>2.8</td>\n",
       "      <td>4.0.3 and up</td>\n",
       "    </tr>\n",
       "    <tr>\n",
       "      <th>13</th>\n",
       "      <td>Mandala Coloring Book</td>\n",
       "      <td>ART_AND_DESIGN</td>\n",
       "      <td>4.6</td>\n",
       "      <td>4326</td>\n",
       "      <td>21M</td>\n",
       "      <td>100,000+</td>\n",
       "      <td>Free</td>\n",
       "      <td>0</td>\n",
       "      <td>Everyone</td>\n",
       "      <td>Art &amp; Design</td>\n",
       "      <td>June 26, 2018</td>\n",
       "      <td>1.0.4</td>\n",
       "      <td>4.4 and up</td>\n",
       "    </tr>\n",
       "    <tr>\n",
       "      <th>16</th>\n",
       "      <td>Photo Designer - Write your name with shapes</td>\n",
       "      <td>ART_AND_DESIGN</td>\n",
       "      <td>4.7</td>\n",
       "      <td>3632</td>\n",
       "      <td>5.5M</td>\n",
       "      <td>500,000+</td>\n",
       "      <td>Free</td>\n",
       "      <td>0</td>\n",
       "      <td>Everyone</td>\n",
       "      <td>Art &amp; Design</td>\n",
       "      <td>July 31, 2018</td>\n",
       "      <td>3.1</td>\n",
       "      <td>4.1 and up</td>\n",
       "    </tr>\n",
       "    <tr>\n",
       "      <th>19</th>\n",
       "      <td>ibis Paint X</td>\n",
       "      <td>ART_AND_DESIGN</td>\n",
       "      <td>4.6</td>\n",
       "      <td>224399</td>\n",
       "      <td>31M</td>\n",
       "      <td>10,000,000+</td>\n",
       "      <td>Free</td>\n",
       "      <td>0</td>\n",
       "      <td>Everyone</td>\n",
       "      <td>Art &amp; Design</td>\n",
       "      <td>July 30, 2018</td>\n",
       "      <td>5.5.4</td>\n",
       "      <td>4.1 and up</td>\n",
       "    </tr>\n",
       "    <tr>\n",
       "      <th>22</th>\n",
       "      <td>Superheroes Wallpapers | 4K Backgrounds</td>\n",
       "      <td>ART_AND_DESIGN</td>\n",
       "      <td>4.7</td>\n",
       "      <td>7699</td>\n",
       "      <td>4.2M</td>\n",
       "      <td>500,000+</td>\n",
       "      <td>Free</td>\n",
       "      <td>0</td>\n",
       "      <td>Everyone 10+</td>\n",
       "      <td>Art &amp; Design</td>\n",
       "      <td>July 12, 2018</td>\n",
       "      <td>2.2.6.2</td>\n",
       "      <td>4.0.3 and up</td>\n",
       "    </tr>\n",
       "    <tr>\n",
       "      <th>24</th>\n",
       "      <td>HD Mickey Minnie Wallpapers</td>\n",
       "      <td>ART_AND_DESIGN</td>\n",
       "      <td>4.7</td>\n",
       "      <td>118</td>\n",
       "      <td>23M</td>\n",
       "      <td>50,000+</td>\n",
       "      <td>Free</td>\n",
       "      <td>0</td>\n",
       "      <td>Everyone</td>\n",
       "      <td>Art &amp; Design</td>\n",
       "      <td>July 7, 2018</td>\n",
       "      <td>1.1.3</td>\n",
       "      <td>4.1 and up</td>\n",
       "    </tr>\n",
       "    <tr>\n",
       "      <th>25</th>\n",
       "      <td>Harley Quinn wallpapers HD</td>\n",
       "      <td>ART_AND_DESIGN</td>\n",
       "      <td>4.8</td>\n",
       "      <td>192</td>\n",
       "      <td>6.0M</td>\n",
       "      <td>10,000+</td>\n",
       "      <td>Free</td>\n",
       "      <td>0</td>\n",
       "      <td>Everyone</td>\n",
       "      <td>Art &amp; Design</td>\n",
       "      <td>April 25, 2018</td>\n",
       "      <td>1.5</td>\n",
       "      <td>3.0 and up</td>\n",
       "    </tr>\n",
       "    <tr>\n",
       "      <th>26</th>\n",
       "      <td>Colorfit - Drawing &amp; Coloring</td>\n",
       "      <td>ART_AND_DESIGN</td>\n",
       "      <td>4.7</td>\n",
       "      <td>20260</td>\n",
       "      <td>25M</td>\n",
       "      <td>500,000+</td>\n",
       "      <td>Free</td>\n",
       "      <td>0</td>\n",
       "      <td>Everyone</td>\n",
       "      <td>Art &amp; Design;Creativity</td>\n",
       "      <td>October 11, 2017</td>\n",
       "      <td>1.0.8</td>\n",
       "      <td>4.0.3 and up</td>\n",
       "    </tr>\n",
       "    <tr>\n",
       "      <th>34</th>\n",
       "      <td>I Creative Idea</td>\n",
       "      <td>ART_AND_DESIGN</td>\n",
       "      <td>4.7</td>\n",
       "      <td>353</td>\n",
       "      <td>4.2M</td>\n",
       "      <td>10,000+</td>\n",
       "      <td>Free</td>\n",
       "      <td>0</td>\n",
       "      <td>Teen</td>\n",
       "      <td>Art &amp; Design</td>\n",
       "      <td>April 27, 2018</td>\n",
       "      <td>1.6</td>\n",
       "      <td>4.1 and up</td>\n",
       "    </tr>\n",
       "    <tr>\n",
       "      <th>36</th>\n",
       "      <td>UNICORN - Color By Number &amp; Pixel Art Coloring</td>\n",
       "      <td>ART_AND_DESIGN</td>\n",
       "      <td>4.7</td>\n",
       "      <td>8145</td>\n",
       "      <td>24M</td>\n",
       "      <td>500,000+</td>\n",
       "      <td>Free</td>\n",
       "      <td>0</td>\n",
       "      <td>Everyone</td>\n",
       "      <td>Art &amp; Design;Creativity</td>\n",
       "      <td>August 2, 2018</td>\n",
       "      <td>1.0.9</td>\n",
       "      <td>4.4 and up</td>\n",
       "    </tr>\n",
       "    <tr>\n",
       "      <th>38</th>\n",
       "      <td>PIP Camera - PIP Collage Maker</td>\n",
       "      <td>ART_AND_DESIGN</td>\n",
       "      <td>4.7</td>\n",
       "      <td>158</td>\n",
       "      <td>11M</td>\n",
       "      <td>10,000+</td>\n",
       "      <td>Free</td>\n",
       "      <td>0</td>\n",
       "      <td>Everyone</td>\n",
       "      <td>Art &amp; Design</td>\n",
       "      <td>November 29, 2017</td>\n",
       "      <td>1.3</td>\n",
       "      <td>4.0.3 and up</td>\n",
       "    </tr>\n",
       "    <tr>\n",
       "      <th>45</th>\n",
       "      <td>Canva: Poster, banner, card maker &amp; graphic de...</td>\n",
       "      <td>ART_AND_DESIGN</td>\n",
       "      <td>4.7</td>\n",
       "      <td>174531</td>\n",
       "      <td>24M</td>\n",
       "      <td>10,000,000+</td>\n",
       "      <td>Free</td>\n",
       "      <td>0</td>\n",
       "      <td>Everyone</td>\n",
       "      <td>Art &amp; Design</td>\n",
       "      <td>July 31, 2018</td>\n",
       "      <td>1.6.1</td>\n",
       "      <td>4.1 and up</td>\n",
       "    </tr>\n",
       "    <tr>\n",
       "      <th>46</th>\n",
       "      <td>Install images with music to make video withou...</td>\n",
       "      <td>ART_AND_DESIGN</td>\n",
       "      <td>4.6</td>\n",
       "      <td>1070</td>\n",
       "      <td>26M</td>\n",
       "      <td>100,000+</td>\n",
       "      <td>Free</td>\n",
       "      <td>0</td>\n",
       "      <td>Everyone</td>\n",
       "      <td>Art &amp; Design</td>\n",
       "      <td>November 14, 2017</td>\n",
       "      <td>1.6</td>\n",
       "      <td>4.1 and up</td>\n",
       "    </tr>\n",
       "    <tr>\n",
       "      <th>3982</th>\n",
       "      <td>Cardi B Wallpaper</td>\n",
       "      <td>ART_AND_DESIGN</td>\n",
       "      <td>4.8</td>\n",
       "      <td>253</td>\n",
       "      <td>3.7M</td>\n",
       "      <td>50,000+</td>\n",
       "      <td>Free</td>\n",
       "      <td>0</td>\n",
       "      <td>Everyone</td>\n",
       "      <td>Art &amp; Design</td>\n",
       "      <td>November 1, 2017</td>\n",
       "      <td>1.0.0</td>\n",
       "      <td>4.0 and up</td>\n",
       "    </tr>\n",
       "    <tr>\n",
       "      <th>4749</th>\n",
       "      <td>X Launcher: With OS11 Style Theme &amp; Control Ce...</td>\n",
       "      <td>ART_AND_DESIGN</td>\n",
       "      <td>4.7</td>\n",
       "      <td>5754</td>\n",
       "      <td>4.4M</td>\n",
       "      <td>100,000+</td>\n",
       "      <td>Free</td>\n",
       "      <td>0</td>\n",
       "      <td>Everyone</td>\n",
       "      <td>Art &amp; Design</td>\n",
       "      <td>July 30, 2018</td>\n",
       "      <td>2.1.2</td>\n",
       "      <td>4.1 and up</td>\n",
       "    </tr>\n",
       "    <tr>\n",
       "      <th>4755</th>\n",
       "      <td>X Launcher Pro: PhoneX Theme, OS11 Control Center</td>\n",
       "      <td>ART_AND_DESIGN</td>\n",
       "      <td>4.7</td>\n",
       "      <td>801</td>\n",
       "      <td>3.5M</td>\n",
       "      <td>5,000+</td>\n",
       "      <td>Paid</td>\n",
       "      <td>$1.99</td>\n",
       "      <td>Everyone</td>\n",
       "      <td>Art &amp; Design</td>\n",
       "      <td>July 30, 2018</td>\n",
       "      <td>2.1.2</td>\n",
       "      <td>4.1 and up</td>\n",
       "    </tr>\n",
       "    <tr>\n",
       "      <th>4759</th>\n",
       "      <td>X Launcher Pro - IOS Style Theme &amp; Control Center</td>\n",
       "      <td>ART_AND_DESIGN</td>\n",
       "      <td>4.8</td>\n",
       "      <td>1216</td>\n",
       "      <td>8.6M</td>\n",
       "      <td>10,000+</td>\n",
       "      <td>Paid</td>\n",
       "      <td>$1.99</td>\n",
       "      <td>Everyone</td>\n",
       "      <td>Art &amp; Design</td>\n",
       "      <td>June 26, 2018</td>\n",
       "      <td>1.0.0</td>\n",
       "      <td>4.1 and up</td>\n",
       "    </tr>\n",
       "    <tr>\n",
       "      <th>4764</th>\n",
       "      <td>X Launcher Prime: With OS Style Theme &amp; No Ads</td>\n",
       "      <td>ART_AND_DESIGN</td>\n",
       "      <td>4.7</td>\n",
       "      <td>149</td>\n",
       "      <td>3.5M</td>\n",
       "      <td>1,000+</td>\n",
       "      <td>Paid</td>\n",
       "      <td>$1.99</td>\n",
       "      <td>Everyone</td>\n",
       "      <td>Art &amp; Design</td>\n",
       "      <td>July 30, 2018</td>\n",
       "      <td>1.2.2</td>\n",
       "      <td>4.1 and up</td>\n",
       "    </tr>\n",
       "    <tr>\n",
       "      <th>5254</th>\n",
       "      <td>AJ Styles HD Wallpapers</td>\n",
       "      <td>ART_AND_DESIGN</td>\n",
       "      <td>4.8</td>\n",
       "      <td>48</td>\n",
       "      <td>25M</td>\n",
       "      <td>5,000+</td>\n",
       "      <td>Free</td>\n",
       "      <td>0</td>\n",
       "      <td>Everyone</td>\n",
       "      <td>Art &amp; Design</td>\n",
       "      <td>August 4, 2018</td>\n",
       "      <td>1.1.1</td>\n",
       "      <td>4.1 and up</td>\n",
       "    </tr>\n",
       "    <tr>\n",
       "      <th>6930</th>\n",
       "      <td>Fantasy theme dark bw black building</td>\n",
       "      <td>ART_AND_DESIGN</td>\n",
       "      <td>4.8</td>\n",
       "      <td>41</td>\n",
       "      <td>1.9M</td>\n",
       "      <td>5,000+</td>\n",
       "      <td>Free</td>\n",
       "      <td>0</td>\n",
       "      <td>Everyone</td>\n",
       "      <td>Art &amp; Design</td>\n",
       "      <td>March 20, 2018</td>\n",
       "      <td>1.0.2</td>\n",
       "      <td>4.0 and up</td>\n",
       "    </tr>\n",
       "    <tr>\n",
       "      <th>8888</th>\n",
       "      <td>Spring flowers theme couleurs d t space</td>\n",
       "      <td>ART_AND_DESIGN</td>\n",
       "      <td>5.0</td>\n",
       "      <td>1</td>\n",
       "      <td>2.9M</td>\n",
       "      <td>100+</td>\n",
       "      <td>Free</td>\n",
       "      <td>0</td>\n",
       "      <td>Everyone</td>\n",
       "      <td>Art &amp; Design</td>\n",
       "      <td>April 18, 2018</td>\n",
       "      <td>1.0.2</td>\n",
       "      <td>4.0 and up</td>\n",
       "    </tr>\n",
       "  </tbody>\n",
       "</table>\n",
       "</div>"
      ],
      "text/plain": [
       "                                                    App        Category  \\\n",
       "2     U Launcher Lite – FREE Live Cool Themes, Hide ...  ART_AND_DESIGN   \n",
       "9                         Kids Paint Free - Drawing Fun  ART_AND_DESIGN   \n",
       "13                                Mandala Coloring Book  ART_AND_DESIGN   \n",
       "16         Photo Designer - Write your name with shapes  ART_AND_DESIGN   \n",
       "19                                         ibis Paint X  ART_AND_DESIGN   \n",
       "22              Superheroes Wallpapers | 4K Backgrounds  ART_AND_DESIGN   \n",
       "24                          HD Mickey Minnie Wallpapers  ART_AND_DESIGN   \n",
       "25                           Harley Quinn wallpapers HD  ART_AND_DESIGN   \n",
       "26                        Colorfit - Drawing & Coloring  ART_AND_DESIGN   \n",
       "34                                      I Creative Idea  ART_AND_DESIGN   \n",
       "36       UNICORN - Color By Number & Pixel Art Coloring  ART_AND_DESIGN   \n",
       "38                       PIP Camera - PIP Collage Maker  ART_AND_DESIGN   \n",
       "45    Canva: Poster, banner, card maker & graphic de...  ART_AND_DESIGN   \n",
       "46    Install images with music to make video withou...  ART_AND_DESIGN   \n",
       "3982                                  Cardi B Wallpaper  ART_AND_DESIGN   \n",
       "4749  X Launcher: With OS11 Style Theme & Control Ce...  ART_AND_DESIGN   \n",
       "4755  X Launcher Pro: PhoneX Theme, OS11 Control Center  ART_AND_DESIGN   \n",
       "4759  X Launcher Pro - IOS Style Theme & Control Center  ART_AND_DESIGN   \n",
       "4764     X Launcher Prime: With OS Style Theme & No Ads  ART_AND_DESIGN   \n",
       "5254                            AJ Styles HD Wallpapers  ART_AND_DESIGN   \n",
       "6930               Fantasy theme dark bw black building  ART_AND_DESIGN   \n",
       "8888            Spring flowers theme couleurs d t space  ART_AND_DESIGN   \n",
       "\n",
       "      Rating Reviews  Size     Installs  Type  Price Content Rating  \\\n",
       "2        4.7   87510  8.7M   5,000,000+  Free      0       Everyone   \n",
       "9        4.7     121  3.1M      10,000+  Free      0       Everyone   \n",
       "13       4.6    4326   21M     100,000+  Free      0       Everyone   \n",
       "16       4.7    3632  5.5M     500,000+  Free      0       Everyone   \n",
       "19       4.6  224399   31M  10,000,000+  Free      0       Everyone   \n",
       "22       4.7    7699  4.2M     500,000+  Free      0   Everyone 10+   \n",
       "24       4.7     118   23M      50,000+  Free      0       Everyone   \n",
       "25       4.8     192  6.0M      10,000+  Free      0       Everyone   \n",
       "26       4.7   20260   25M     500,000+  Free      0       Everyone   \n",
       "34       4.7     353  4.2M      10,000+  Free      0           Teen   \n",
       "36       4.7    8145   24M     500,000+  Free      0       Everyone   \n",
       "38       4.7     158   11M      10,000+  Free      0       Everyone   \n",
       "45       4.7  174531   24M  10,000,000+  Free      0       Everyone   \n",
       "46       4.6    1070   26M     100,000+  Free      0       Everyone   \n",
       "3982     4.8     253  3.7M      50,000+  Free      0       Everyone   \n",
       "4749     4.7    5754  4.4M     100,000+  Free      0       Everyone   \n",
       "4755     4.7     801  3.5M       5,000+  Paid  $1.99       Everyone   \n",
       "4759     4.8    1216  8.6M      10,000+  Paid  $1.99       Everyone   \n",
       "4764     4.7     149  3.5M       1,000+  Paid  $1.99       Everyone   \n",
       "5254     4.8      48   25M       5,000+  Free      0       Everyone   \n",
       "6930     4.8      41  1.9M       5,000+  Free      0       Everyone   \n",
       "8888     5.0       1  2.9M         100+  Free      0       Everyone   \n",
       "\n",
       "                       Genres       Last Updated Current Ver   Android Ver  \n",
       "2                Art & Design     August 1, 2018       1.2.4  4.0.3 and up  \n",
       "9     Art & Design;Creativity       July 3, 2018         2.8  4.0.3 and up  \n",
       "13               Art & Design      June 26, 2018       1.0.4    4.4 and up  \n",
       "16               Art & Design      July 31, 2018         3.1    4.1 and up  \n",
       "19               Art & Design      July 30, 2018       5.5.4    4.1 and up  \n",
       "22               Art & Design      July 12, 2018     2.2.6.2  4.0.3 and up  \n",
       "24               Art & Design       July 7, 2018       1.1.3    4.1 and up  \n",
       "25               Art & Design     April 25, 2018         1.5    3.0 and up  \n",
       "26    Art & Design;Creativity   October 11, 2017       1.0.8  4.0.3 and up  \n",
       "34               Art & Design     April 27, 2018         1.6    4.1 and up  \n",
       "36    Art & Design;Creativity     August 2, 2018       1.0.9    4.4 and up  \n",
       "38               Art & Design  November 29, 2017         1.3  4.0.3 and up  \n",
       "45               Art & Design      July 31, 2018       1.6.1    4.1 and up  \n",
       "46               Art & Design  November 14, 2017         1.6    4.1 and up  \n",
       "3982             Art & Design   November 1, 2017       1.0.0    4.0 and up  \n",
       "4749             Art & Design      July 30, 2018       2.1.2    4.1 and up  \n",
       "4755             Art & Design      July 30, 2018       2.1.2    4.1 and up  \n",
       "4759             Art & Design      June 26, 2018       1.0.0    4.1 and up  \n",
       "4764             Art & Design      July 30, 2018       1.2.2    4.1 and up  \n",
       "5254             Art & Design     August 4, 2018       1.1.1    4.1 and up  \n",
       "6930             Art & Design     March 20, 2018       1.0.2    4.0 and up  \n",
       "8888             Art & Design     April 18, 2018       1.0.2    4.0 and up  "
      ]
     },
     "execution_count": 32,
     "metadata": {},
     "output_type": "execute_result"
    }
   ],
   "source": [
    "df[(df['Rating']>4.5)&(df['Category']=='ART_AND_DESIGN')]"
   ]
  },
  {
   "cell_type": "code",
   "execution_count": 36,
   "id": "4b3d19a3",
   "metadata": {},
   "outputs": [
    {
     "data": {
      "text/plain": [
       "Category\n",
       "EVENTS                 4.435556\n",
       "EDUCATION              4.389032\n",
       "ART_AND_DESIGN         4.377049\n",
       "BOOKS_AND_REFERENCE    4.346067\n",
       "PERSONALIZATION        4.335256\n",
       "PARENTING              4.300000\n",
       "GAME                   4.286326\n",
       "BEAUTY                 4.278571\n",
       "HEALTH_AND_FITNESS     4.277104\n",
       "SHOPPING               4.259664\n",
       "SOCIAL                 4.255598\n",
       "WEATHER                4.244000\n",
       "SPORTS                 4.223511\n",
       "PRODUCTIVITY           4.211396\n",
       "HOUSE_AND_HOME         4.197368\n",
       "FAMILY                 4.192383\n",
       "PHOTOGRAPHY            4.192114\n",
       "AUTO_AND_VEHICLES      4.190411\n",
       "MEDICAL                4.189143\n",
       "LIBRARIES_AND_DEMO     4.179688\n",
       "FOOD_AND_DRINK         4.166972\n",
       "COMMUNICATION          4.158537\n",
       "COMICS                 4.155172\n",
       "NEWS_AND_MAGAZINES     4.132189\n",
       "FINANCE                4.131889\n",
       "ENTERTAINMENT          4.126174\n",
       "BUSINESS               4.121452\n",
       "TRAVEL_AND_LOCAL       4.109292\n",
       "LIFESTYLE              4.094904\n",
       "VIDEO_PLAYERS          4.063750\n",
       "MAPS_AND_NAVIGATION    4.051613\n",
       "TOOLS                  4.047203\n",
       "DATING                 3.970769\n",
       "Name: Rating, dtype: float64"
      ]
     },
     "execution_count": 36,
     "metadata": {},
     "output_type": "execute_result"
    }
   ],
   "source": [
    "df.groupby(\"Category\").mean()[\"Rating\"].sort_values(ascending=False)"
   ]
  },
  {
   "cell_type": "code",
   "execution_count": 37,
   "id": "c90a2e6f",
   "metadata": {},
   "outputs": [
    {
     "data": {
      "text/plain": [
       "Category\n",
       "FAMILY                 161\n",
       "MEDICAL                 88\n",
       "GAME                    77\n",
       "PERSONALIZATION         66\n",
       "TOOLS                   63\n",
       "COMMUNICATION           22\n",
       "SPORTS                  22\n",
       "PRODUCTIVITY            18\n",
       "LIFESTYLE               18\n",
       "PHOTOGRAPHY             18\n",
       "FINANCE                 13\n",
       "HEALTH_AND_FITNESS      12\n",
       "BUSINESS                11\n",
       "BOOKS_AND_REFERENCE      8\n",
       "TRAVEL_AND_LOCAL         8\n",
       "WEATHER                  7\n",
       "MAPS_AND_NAVIGATION      5\n",
       "EDUCATION                4\n",
       "DATING                   4\n",
       "VIDEO_PLAYERS            4\n",
       "ART_AND_DESIGN           3\n",
       "PARENTING                2\n",
       "NEWS_AND_MAGAZINES       2\n",
       "FOOD_AND_DRINK           2\n",
       "SHOPPING                 2\n",
       "SOCIAL                   2\n",
       "ENTERTAINMENT            2\n",
       "AUTO_AND_VEHICLES        1\n",
       "Name: Type, dtype: int64"
      ]
     },
     "execution_count": 37,
     "metadata": {},
     "output_type": "execute_result"
    }
   ],
   "source": [
    "df_pr = df[df['Type'] == 'Paid']\n",
    "\n",
    "df_pr.groupby('Category').count()['Type'].sort_values(ascending = False)"
   ]
  },
  {
   "cell_type": "code",
   "execution_count": null,
   "id": "e5e36502",
   "metadata": {},
   "outputs": [],
   "source": []
  }
 ],
 "metadata": {
  "kernelspec": {
   "display_name": "Python 3 (ipykernel)",
   "language": "python",
   "name": "python3"
  },
  "language_info": {
   "codemirror_mode": {
    "name": "ipython",
    "version": 3
   },
   "file_extension": ".py",
   "mimetype": "text/x-python",
   "name": "python",
   "nbconvert_exporter": "python",
   "pygments_lexer": "ipython3",
   "version": "3.9.7"
  }
 },
 "nbformat": 4,
 "nbformat_minor": 5
}
